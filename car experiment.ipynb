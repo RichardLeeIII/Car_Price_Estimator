{
 "cells": [
  {
   "cell_type": "markdown",
   "id": "f8a3fdeb",
   "metadata": {},
   "source": [
    "Data source: https://www.kaggle.com/datasets/rupeshraundal/marketcheck-automotive-data-us-canada?select=ca-dealers-used.csv"
   ]
  },
  {
   "cell_type": "code",
   "execution_count": 1,
   "id": "777908eb",
   "metadata": {},
   "outputs": [],
   "source": [
    "import pandas as pd\n",
    "import numpy as np\n",
    "import matplotlib.pyplot as plt"
   ]
  },
  {
   "cell_type": "code",
   "execution_count": 2,
   "id": "ab709c32-9f6b-473c-8869-0af9f7bfdcef",
   "metadata": {},
   "outputs": [
    {
     "name": "stdout",
     "output_type": "stream",
     "text": [
      "NumPy version: 1.23.5\n",
      "scikit-learn version: 1.2.1\n"
     ]
    }
   ],
   "source": [
    "import numpy as np\n",
    "import sklearn\n",
    "\n",
    "print(f\"NumPy version: {np.__version__}\")\n",
    "print(f\"scikit-learn version: {sklearn.__version__}\")\n"
   ]
  },
  {
   "cell_type": "code",
   "execution_count": 3,
   "id": "340436a5",
   "metadata": {},
   "outputs": [
    {
     "name": "stderr",
     "output_type": "stream",
     "text": [
      "C:\\Users\\LGPC\\AppData\\Local\\Temp\\ipykernel_15888\\1517061725.py:1: DtypeWarning: Columns (13,15) have mixed types. Specify dtype option on import or set low_memory=False.\n",
      "  df = pd.read_csv('ca-dealers-used.csv')\n"
     ]
    },
    {
     "data": {
      "text/html": [
       "<div>\n",
       "<style scoped>\n",
       "    .dataframe tbody tr th:only-of-type {\n",
       "        vertical-align: middle;\n",
       "    }\n",
       "\n",
       "    .dataframe tbody tr th {\n",
       "        vertical-align: top;\n",
       "    }\n",
       "\n",
       "    .dataframe thead th {\n",
       "        text-align: right;\n",
       "    }\n",
       "</style>\n",
       "<table border=\"1\" class=\"dataframe\">\n",
       "  <thead>\n",
       "    <tr style=\"text-align: right;\">\n",
       "      <th></th>\n",
       "      <th>id</th>\n",
       "      <th>vin</th>\n",
       "      <th>price</th>\n",
       "      <th>miles</th>\n",
       "      <th>stock_no</th>\n",
       "      <th>year</th>\n",
       "      <th>make</th>\n",
       "      <th>model</th>\n",
       "      <th>trim</th>\n",
       "      <th>body_type</th>\n",
       "      <th>...</th>\n",
       "      <th>drivetrain</th>\n",
       "      <th>transmission</th>\n",
       "      <th>fuel_type</th>\n",
       "      <th>engine_size</th>\n",
       "      <th>engine_block</th>\n",
       "      <th>seller_name</th>\n",
       "      <th>street</th>\n",
       "      <th>city</th>\n",
       "      <th>state</th>\n",
       "      <th>zip</th>\n",
       "    </tr>\n",
       "  </thead>\n",
       "  <tbody>\n",
       "    <tr>\n",
       "      <th>0</th>\n",
       "      <td>b39ea795-eca9</td>\n",
       "      <td>19UNC1B01HY800062</td>\n",
       "      <td>179999.0</td>\n",
       "      <td>9966.0</td>\n",
       "      <td>V-P4139</td>\n",
       "      <td>2017.0</td>\n",
       "      <td>Acura</td>\n",
       "      <td>NSX</td>\n",
       "      <td>Base</td>\n",
       "      <td>Coupe</td>\n",
       "      <td>...</td>\n",
       "      <td>4WD</td>\n",
       "      <td>Automatic</td>\n",
       "      <td>Electric / Premium Unleaded</td>\n",
       "      <td>3.5</td>\n",
       "      <td>V</td>\n",
       "      <td>edmundston honda</td>\n",
       "      <td>475 Rue Victoria</td>\n",
       "      <td>Edmundston</td>\n",
       "      <td>NB</td>\n",
       "      <td>E3V 2K7</td>\n",
       "    </tr>\n",
       "    <tr>\n",
       "      <th>1</th>\n",
       "      <td>026cb5b1-6e3e</td>\n",
       "      <td>19UNC1B02HY800023</td>\n",
       "      <td>179995.0</td>\n",
       "      <td>5988.0</td>\n",
       "      <td>PPAP70374</td>\n",
       "      <td>2017.0</td>\n",
       "      <td>Acura</td>\n",
       "      <td>NSX</td>\n",
       "      <td>Base</td>\n",
       "      <td>Coupe</td>\n",
       "      <td>...</td>\n",
       "      <td>4WD</td>\n",
       "      <td>Automatic</td>\n",
       "      <td>Electric / Premium Unleaded</td>\n",
       "      <td>3.5</td>\n",
       "      <td>V</td>\n",
       "      <td>garage daniel lessard</td>\n",
       "      <td>2795 Route-du-prsident-kennedy</td>\n",
       "      <td>Notre-dame-des-pins</td>\n",
       "      <td>QC</td>\n",
       "      <td>G0M 1K0</td>\n",
       "    </tr>\n",
       "    <tr>\n",
       "      <th>2</th>\n",
       "      <td>5cd5d5b2-5cc2</td>\n",
       "      <td>19UNC1B02HY800071</td>\n",
       "      <td>168528.0</td>\n",
       "      <td>24242.0</td>\n",
       "      <td>B21085</td>\n",
       "      <td>2017.0</td>\n",
       "      <td>Acura</td>\n",
       "      <td>NSX</td>\n",
       "      <td>Base</td>\n",
       "      <td>Coupe</td>\n",
       "      <td>...</td>\n",
       "      <td>4WD</td>\n",
       "      <td>Automatic</td>\n",
       "      <td>Electric / Premium Unleaded</td>\n",
       "      <td>3.5</td>\n",
       "      <td>V</td>\n",
       "      <td>lougheed acura</td>\n",
       "      <td>1388 Lougheed Highway</td>\n",
       "      <td>Coquitlam</td>\n",
       "      <td>BC</td>\n",
       "      <td>V3K 6S4</td>\n",
       "    </tr>\n",
       "    <tr>\n",
       "      <th>3</th>\n",
       "      <td>b32473ed-5922</td>\n",
       "      <td>19UNC1B02LY800001</td>\n",
       "      <td>220000.0</td>\n",
       "      <td>6637.0</td>\n",
       "      <td>AP5333</td>\n",
       "      <td>2020.0</td>\n",
       "      <td>Acura</td>\n",
       "      <td>NSX</td>\n",
       "      <td>Base</td>\n",
       "      <td>Coupe</td>\n",
       "      <td>...</td>\n",
       "      <td>4WD</td>\n",
       "      <td>Automatic</td>\n",
       "      <td>Electric / Premium Unleaded</td>\n",
       "      <td>3.5</td>\n",
       "      <td>V</td>\n",
       "      <td>drive autogroup</td>\n",
       "      <td>1305 Parkway Suite 600</td>\n",
       "      <td>Pickering</td>\n",
       "      <td>ON</td>\n",
       "      <td>L1V 3P2</td>\n",
       "    </tr>\n",
       "    <tr>\n",
       "      <th>4</th>\n",
       "      <td>ac40c9fc-0676</td>\n",
       "      <td>19UNC1B02LY800001</td>\n",
       "      <td>220000.0</td>\n",
       "      <td>6637.0</td>\n",
       "      <td>AP5333</td>\n",
       "      <td>2020.0</td>\n",
       "      <td>Acura</td>\n",
       "      <td>NSX</td>\n",
       "      <td>Base</td>\n",
       "      <td>Coupe</td>\n",
       "      <td>...</td>\n",
       "      <td>4WD</td>\n",
       "      <td>Automatic</td>\n",
       "      <td>Electric / Premium Unleaded</td>\n",
       "      <td>3.5</td>\n",
       "      <td>V</td>\n",
       "      <td>acura pickering</td>\n",
       "      <td>575 Kingston Road</td>\n",
       "      <td>Pickering</td>\n",
       "      <td>ON</td>\n",
       "      <td>L1V 3N7</td>\n",
       "    </tr>\n",
       "  </tbody>\n",
       "</table>\n",
       "<p>5 rows × 21 columns</p>\n",
       "</div>"
      ],
      "text/plain": [
       "              id                vin     price    miles   stock_no    year  \\\n",
       "0  b39ea795-eca9  19UNC1B01HY800062  179999.0   9966.0    V-P4139  2017.0   \n",
       "1  026cb5b1-6e3e  19UNC1B02HY800023  179995.0   5988.0  PPAP70374  2017.0   \n",
       "2  5cd5d5b2-5cc2  19UNC1B02HY800071  168528.0  24242.0     B21085  2017.0   \n",
       "3  b32473ed-5922  19UNC1B02LY800001  220000.0   6637.0     AP5333  2020.0   \n",
       "4  ac40c9fc-0676  19UNC1B02LY800001  220000.0   6637.0     AP5333  2020.0   \n",
       "\n",
       "    make model  trim body_type  ... drivetrain transmission  \\\n",
       "0  Acura   NSX  Base     Coupe  ...        4WD    Automatic   \n",
       "1  Acura   NSX  Base     Coupe  ...        4WD    Automatic   \n",
       "2  Acura   NSX  Base     Coupe  ...        4WD    Automatic   \n",
       "3  Acura   NSX  Base     Coupe  ...        4WD    Automatic   \n",
       "4  Acura   NSX  Base     Coupe  ...        4WD    Automatic   \n",
       "\n",
       "                     fuel_type engine_size  engine_block  \\\n",
       "0  Electric / Premium Unleaded         3.5             V   \n",
       "1  Electric / Premium Unleaded         3.5             V   \n",
       "2  Electric / Premium Unleaded         3.5             V   \n",
       "3  Electric / Premium Unleaded         3.5             V   \n",
       "4  Electric / Premium Unleaded         3.5             V   \n",
       "\n",
       "             seller_name                          street                 city  \\\n",
       "0       edmundston honda                475 Rue Victoria           Edmundston   \n",
       "1  garage daniel lessard  2795 Route-du-prsident-kennedy  Notre-dame-des-pins   \n",
       "2         lougheed acura           1388 Lougheed Highway            Coquitlam   \n",
       "3        drive autogroup          1305 Parkway Suite 600            Pickering   \n",
       "4        acura pickering               575 Kingston Road            Pickering   \n",
       "\n",
       "  state      zip  \n",
       "0    NB  E3V 2K7  \n",
       "1    QC  G0M 1K0  \n",
       "2    BC  V3K 6S4  \n",
       "3    ON  L1V 3P2  \n",
       "4    ON  L1V 3N7  \n",
       "\n",
       "[5 rows x 21 columns]"
      ]
     },
     "execution_count": 3,
     "metadata": {},
     "output_type": "execute_result"
    }
   ],
   "source": [
    "df = pd.read_csv('ca-dealers-used.csv')\n",
    "df.head()"
   ]
  },
  {
   "cell_type": "code",
   "execution_count": 4,
   "id": "a44e73a4-bbc9-41f2-b998-13e3b51c3a33",
   "metadata": {},
   "outputs": [
    {
     "data": {
      "text/plain": [
       "Index(['id', 'vin', 'price', 'miles', 'stock_no', 'year', 'make', 'model',\n",
       "       'trim', 'body_type', 'vehicle_type', 'drivetrain', 'transmission',\n",
       "       'fuel_type', 'engine_size', 'engine_block', 'seller_name', 'street',\n",
       "       'city', 'state', 'zip'],\n",
       "      dtype='object')"
      ]
     },
     "execution_count": 4,
     "metadata": {},
     "output_type": "execute_result"
    }
   ],
   "source": [
    "df.columns"
   ]
  },
  {
   "cell_type": "code",
   "execution_count": 5,
   "id": "6fd8c1d5-b75d-4502-ac0a-93d655623d09",
   "metadata": {},
   "outputs": [
    {
     "name": "stdout",
     "output_type": "stream",
     "text": [
      "Column: id, Data Type: object\n",
      "Column: vin, Data Type: object\n",
      "Column: price, Data Type: float64\n",
      "Column: miles, Data Type: float64\n",
      "Column: stock_no, Data Type: object\n",
      "Column: year, Data Type: float64\n",
      "Column: make, Data Type: object\n",
      "Column: model, Data Type: object\n",
      "Column: trim, Data Type: object\n",
      "Column: body_type, Data Type: object\n",
      "Column: vehicle_type, Data Type: object\n",
      "Column: drivetrain, Data Type: object\n",
      "Column: transmission, Data Type: object\n",
      "Column: fuel_type, Data Type: object\n",
      "Column: engine_size, Data Type: float64\n",
      "Column: engine_block, Data Type: object\n",
      "Column: seller_name, Data Type: object\n",
      "Column: street, Data Type: object\n",
      "Column: city, Data Type: object\n",
      "Column: state, Data Type: object\n",
      "Column: zip, Data Type: object\n"
     ]
    }
   ],
   "source": [
    "columns = df.columns\n",
    "for c in columns:\n",
    "    print(f\"Column: {c}, Data Type: {df[c].dtype}\")\n",
    "\n"
   ]
  },
  {
   "cell_type": "code",
   "execution_count": 6,
   "id": "7de58942-a391-4c1f-8e69-c579c2e30132",
   "metadata": {},
   "outputs": [
    {
     "data": {
      "text/html": [
       "<div>\n",
       "<style scoped>\n",
       "    .dataframe tbody tr th:only-of-type {\n",
       "        vertical-align: middle;\n",
       "    }\n",
       "\n",
       "    .dataframe tbody tr th {\n",
       "        vertical-align: top;\n",
       "    }\n",
       "\n",
       "    .dataframe thead th {\n",
       "        text-align: right;\n",
       "    }\n",
       "</style>\n",
       "<table border=\"1\" class=\"dataframe\">\n",
       "  <thead>\n",
       "    <tr style=\"text-align: right;\">\n",
       "      <th></th>\n",
       "      <th>id</th>\n",
       "      <th>vin</th>\n",
       "      <th>stock_no</th>\n",
       "      <th>trim</th>\n",
       "      <th>make</th>\n",
       "      <th>model</th>\n",
       "      <th>body_type</th>\n",
       "      <th>vehicle_type</th>\n",
       "      <th>drivetrain</th>\n",
       "      <th>transmission</th>\n",
       "      <th>fuel_type</th>\n",
       "      <th>engine_block</th>\n",
       "    </tr>\n",
       "  </thead>\n",
       "  <tbody>\n",
       "    <tr>\n",
       "      <th>0</th>\n",
       "      <td>b39ea795-eca9</td>\n",
       "      <td>19UNC1B01HY800062</td>\n",
       "      <td>V-P4139</td>\n",
       "      <td>Base</td>\n",
       "      <td>Acura</td>\n",
       "      <td>NSX</td>\n",
       "      <td>Coupe</td>\n",
       "      <td>Car</td>\n",
       "      <td>4WD</td>\n",
       "      <td>Automatic</td>\n",
       "      <td>Electric / Premium Unleaded</td>\n",
       "      <td>V</td>\n",
       "    </tr>\n",
       "    <tr>\n",
       "      <th>1</th>\n",
       "      <td>026cb5b1-6e3e</td>\n",
       "      <td>19UNC1B02HY800023</td>\n",
       "      <td>PPAP70374</td>\n",
       "      <td>Base</td>\n",
       "      <td>Acura</td>\n",
       "      <td>NSX</td>\n",
       "      <td>Coupe</td>\n",
       "      <td>Car</td>\n",
       "      <td>4WD</td>\n",
       "      <td>Automatic</td>\n",
       "      <td>Electric / Premium Unleaded</td>\n",
       "      <td>V</td>\n",
       "    </tr>\n",
       "    <tr>\n",
       "      <th>2</th>\n",
       "      <td>5cd5d5b2-5cc2</td>\n",
       "      <td>19UNC1B02HY800071</td>\n",
       "      <td>B21085</td>\n",
       "      <td>Base</td>\n",
       "      <td>Acura</td>\n",
       "      <td>NSX</td>\n",
       "      <td>Coupe</td>\n",
       "      <td>Car</td>\n",
       "      <td>4WD</td>\n",
       "      <td>Automatic</td>\n",
       "      <td>Electric / Premium Unleaded</td>\n",
       "      <td>V</td>\n",
       "    </tr>\n",
       "    <tr>\n",
       "      <th>3</th>\n",
       "      <td>b32473ed-5922</td>\n",
       "      <td>19UNC1B02LY800001</td>\n",
       "      <td>AP5333</td>\n",
       "      <td>Base</td>\n",
       "      <td>Acura</td>\n",
       "      <td>NSX</td>\n",
       "      <td>Coupe</td>\n",
       "      <td>Car</td>\n",
       "      <td>4WD</td>\n",
       "      <td>Automatic</td>\n",
       "      <td>Electric / Premium Unleaded</td>\n",
       "      <td>V</td>\n",
       "    </tr>\n",
       "    <tr>\n",
       "      <th>4</th>\n",
       "      <td>ac40c9fc-0676</td>\n",
       "      <td>19UNC1B02LY800001</td>\n",
       "      <td>AP5333</td>\n",
       "      <td>Base</td>\n",
       "      <td>Acura</td>\n",
       "      <td>NSX</td>\n",
       "      <td>Coupe</td>\n",
       "      <td>Car</td>\n",
       "      <td>4WD</td>\n",
       "      <td>Automatic</td>\n",
       "      <td>Electric / Premium Unleaded</td>\n",
       "      <td>V</td>\n",
       "    </tr>\n",
       "    <tr>\n",
       "      <th>...</th>\n",
       "      <td>...</td>\n",
       "      <td>...</td>\n",
       "      <td>...</td>\n",
       "      <td>...</td>\n",
       "      <td>...</td>\n",
       "      <td>...</td>\n",
       "      <td>...</td>\n",
       "      <td>...</td>\n",
       "      <td>...</td>\n",
       "      <td>...</td>\n",
       "      <td>...</td>\n",
       "      <td>...</td>\n",
       "    </tr>\n",
       "    <tr>\n",
       "      <th>393598</th>\n",
       "      <td>f71c5738-33d8</td>\n",
       "      <td>WDC0G5EB8KF614677</td>\n",
       "      <td>M0684</td>\n",
       "      <td>GLC350e</td>\n",
       "      <td>Mercedes-Benz</td>\n",
       "      <td>GLC-Class</td>\n",
       "      <td>SUV</td>\n",
       "      <td>Truck</td>\n",
       "      <td>4WD</td>\n",
       "      <td>Automatic</td>\n",
       "      <td>Electric / Unleaded</td>\n",
       "      <td>I</td>\n",
       "    </tr>\n",
       "    <tr>\n",
       "      <th>393599</th>\n",
       "      <td>873d76f0-18d2</td>\n",
       "      <td>WDC0G5EB9JF465808</td>\n",
       "      <td>D13339</td>\n",
       "      <td>GLC350e</td>\n",
       "      <td>Mercedes-Benz</td>\n",
       "      <td>GLC-Class</td>\n",
       "      <td>SUV</td>\n",
       "      <td>Truck</td>\n",
       "      <td>4WD</td>\n",
       "      <td>Automatic</td>\n",
       "      <td>Electric / Unleaded</td>\n",
       "      <td>I</td>\n",
       "    </tr>\n",
       "    <tr>\n",
       "      <th>393600</th>\n",
       "      <td>7ead9dba-6cdd</td>\n",
       "      <td>WDC0G5EB9JF465808</td>\n",
       "      <td>D13339</td>\n",
       "      <td>GLC350e</td>\n",
       "      <td>Mercedes-Benz</td>\n",
       "      <td>GLC-Class</td>\n",
       "      <td>SUV</td>\n",
       "      <td>Truck</td>\n",
       "      <td>4WD</td>\n",
       "      <td>Automatic</td>\n",
       "      <td>Electric / Unleaded</td>\n",
       "      <td>I</td>\n",
       "    </tr>\n",
       "    <tr>\n",
       "      <th>393601</th>\n",
       "      <td>efa897c2-a52f</td>\n",
       "      <td>WP1BE2AY4LDA55072</td>\n",
       "      <td>NaN</td>\n",
       "      <td>E-Hybrid</td>\n",
       "      <td>Porsche</td>\n",
       "      <td>Cayenne Coupe</td>\n",
       "      <td>SUV</td>\n",
       "      <td>Truck</td>\n",
       "      <td>4WD</td>\n",
       "      <td>Automatic</td>\n",
       "      <td>Electric / Unleaded</td>\n",
       "      <td>V</td>\n",
       "    </tr>\n",
       "    <tr>\n",
       "      <th>393602</th>\n",
       "      <td>479607ed-62af</td>\n",
       "      <td>WP1BE2AY8LDA55284</td>\n",
       "      <td>P16107</td>\n",
       "      <td>E-Hybrid</td>\n",
       "      <td>Porsche</td>\n",
       "      <td>Cayenne Coupe</td>\n",
       "      <td>SUV</td>\n",
       "      <td>Truck</td>\n",
       "      <td>4WD</td>\n",
       "      <td>Automatic</td>\n",
       "      <td>Electric / Unleaded</td>\n",
       "      <td>V</td>\n",
       "    </tr>\n",
       "  </tbody>\n",
       "</table>\n",
       "<p>393603 rows × 12 columns</p>\n",
       "</div>"
      ],
      "text/plain": [
       "                   id                vin   stock_no      trim           make  \\\n",
       "0       b39ea795-eca9  19UNC1B01HY800062    V-P4139      Base          Acura   \n",
       "1       026cb5b1-6e3e  19UNC1B02HY800023  PPAP70374      Base          Acura   \n",
       "2       5cd5d5b2-5cc2  19UNC1B02HY800071     B21085      Base          Acura   \n",
       "3       b32473ed-5922  19UNC1B02LY800001     AP5333      Base          Acura   \n",
       "4       ac40c9fc-0676  19UNC1B02LY800001     AP5333      Base          Acura   \n",
       "...               ...                ...        ...       ...            ...   \n",
       "393598  f71c5738-33d8  WDC0G5EB8KF614677      M0684   GLC350e  Mercedes-Benz   \n",
       "393599  873d76f0-18d2  WDC0G5EB9JF465808     D13339   GLC350e  Mercedes-Benz   \n",
       "393600  7ead9dba-6cdd  WDC0G5EB9JF465808     D13339   GLC350e  Mercedes-Benz   \n",
       "393601  efa897c2-a52f  WP1BE2AY4LDA55072        NaN  E-Hybrid        Porsche   \n",
       "393602  479607ed-62af  WP1BE2AY8LDA55284     P16107  E-Hybrid        Porsche   \n",
       "\n",
       "                model body_type vehicle_type drivetrain transmission  \\\n",
       "0                 NSX     Coupe          Car        4WD    Automatic   \n",
       "1                 NSX     Coupe          Car        4WD    Automatic   \n",
       "2                 NSX     Coupe          Car        4WD    Automatic   \n",
       "3                 NSX     Coupe          Car        4WD    Automatic   \n",
       "4                 NSX     Coupe          Car        4WD    Automatic   \n",
       "...               ...       ...          ...        ...          ...   \n",
       "393598      GLC-Class       SUV        Truck        4WD    Automatic   \n",
       "393599      GLC-Class       SUV        Truck        4WD    Automatic   \n",
       "393600      GLC-Class       SUV        Truck        4WD    Automatic   \n",
       "393601  Cayenne Coupe       SUV        Truck        4WD    Automatic   \n",
       "393602  Cayenne Coupe       SUV        Truck        4WD    Automatic   \n",
       "\n",
       "                          fuel_type engine_block  \n",
       "0       Electric / Premium Unleaded            V  \n",
       "1       Electric / Premium Unleaded            V  \n",
       "2       Electric / Premium Unleaded            V  \n",
       "3       Electric / Premium Unleaded            V  \n",
       "4       Electric / Premium Unleaded            V  \n",
       "...                             ...          ...  \n",
       "393598          Electric / Unleaded            I  \n",
       "393599          Electric / Unleaded            I  \n",
       "393600          Electric / Unleaded            I  \n",
       "393601          Electric / Unleaded            V  \n",
       "393602          Electric / Unleaded            V  \n",
       "\n",
       "[393603 rows x 12 columns]"
      ]
     },
     "execution_count": 6,
     "metadata": {},
     "output_type": "execute_result"
    }
   ],
   "source": [
    "cat=df[['id', 'vin','stock_no','trim','make', 'model','body_type', 'vehicle_type','drivetrain', 'transmission',\n",
    "       'fuel_type','engine_block']]\n",
    "cat"
   ]
  },
  {
   "cell_type": "code",
   "execution_count": 7,
   "id": "b7630981-d155-4d8e-b448-afec29bc8b68",
   "metadata": {},
   "outputs": [],
   "source": [
    "cat=df[['trim','make', 'model','body_type', 'vehicle_type','drivetrain', 'transmission',\n",
    "       'fuel_type','engine_block']]"
   ]
  },
  {
   "cell_type": "code",
   "execution_count": 8,
   "id": "5e0b5235-aa80-4248-ba84-b4b03cec25dd",
   "metadata": {},
   "outputs": [],
   "source": [
    "# Assuming df is your DataFrame\n",
    "#unique_trims = df[\"trim\"].unique()\n",
    "\n",
    "# Convert the array to a list to display all elements without truncation\n",
    "#unique_trims_list = unique_trims.tolist()\n",
    "\n",
    "# Print all unique trims\n",
    "#print(unique_trims_list)"
   ]
  },
  {
   "cell_type": "code",
   "execution_count": 9,
   "id": "8c3cf96b-26f7-437a-b2d4-06f1cb3c518d",
   "metadata": {},
   "outputs": [
    {
     "data": {
      "text/plain": [
       "(393603, 14)"
      ]
     },
     "execution_count": 9,
     "metadata": {},
     "output_type": "execute_result"
    }
   ],
   "source": [
    "cols_to_drop = ['id', 'vin', 'stock_no', 'street', 'zip', 'seller_name', 'city']\n",
    "df = df.drop(cols_to_drop, axis=1)\n",
    "\n",
    "df.shape"
   ]
  },
  {
   "cell_type": "code",
   "execution_count": 10,
   "id": "a9a3846d",
   "metadata": {},
   "outputs": [
    {
     "data": {
      "text/plain": [
       "price           35117\n",
       "miles           27013\n",
       "year               17\n",
       "make                0\n",
       "model            4794\n",
       "trim            38779\n",
       "body_type       34025\n",
       "vehicle_type    38238\n",
       "drivetrain      38995\n",
       "transmission    35681\n",
       "fuel_type       70813\n",
       "engine_size     72653\n",
       "engine_block    73164\n",
       "state            7836\n",
       "dtype: int64"
      ]
     },
     "execution_count": 10,
     "metadata": {},
     "output_type": "execute_result"
    }
   ],
   "source": [
    "df.isna().sum()"
   ]
  },
  {
   "cell_type": "code",
   "execution_count": 11,
   "id": "3985833b",
   "metadata": {},
   "outputs": [
    {
     "data": {
      "text/plain": [
       "(393603, 14)"
      ]
     },
     "execution_count": 11,
     "metadata": {},
     "output_type": "execute_result"
    }
   ],
   "source": [
    "df.shape"
   ]
  },
  {
   "cell_type": "code",
   "execution_count": 12,
   "id": "0e0bf1e2",
   "metadata": {},
   "outputs": [
    {
     "data": {
      "text/plain": [
       "price           float64\n",
       "miles           float64\n",
       "year            float64\n",
       "make             object\n",
       "model            object\n",
       "trim             object\n",
       "body_type        object\n",
       "vehicle_type     object\n",
       "drivetrain       object\n",
       "transmission     object\n",
       "fuel_type        object\n",
       "engine_size     float64\n",
       "engine_block     object\n",
       "state            object\n",
       "dtype: object"
      ]
     },
     "execution_count": 12,
     "metadata": {},
     "output_type": "execute_result"
    }
   ],
   "source": [
    "df.dtypes"
   ]
  },
  {
   "cell_type": "code",
   "execution_count": 13,
   "id": "833c6def",
   "metadata": {},
   "outputs": [],
   "source": [
    "df = df.dropna(axis=0)"
   ]
  },
  {
   "cell_type": "code",
   "execution_count": 14,
   "id": "c7fb6333",
   "metadata": {},
   "outputs": [
    {
     "data": {
      "text/plain": [
       "price           float64\n",
       "miles           float64\n",
       "year            float64\n",
       "make             string\n",
       "model            string\n",
       "trim             object\n",
       "body_type        string\n",
       "vehicle_type     string\n",
       "drivetrain       string\n",
       "transmission     string\n",
       "fuel_type        string\n",
       "engine_size     float64\n",
       "engine_block     string\n",
       "state            string\n",
       "dtype: object"
      ]
     },
     "execution_count": 14,
     "metadata": {},
     "output_type": "execute_result"
    }
   ],
   "source": [
    "df[['make', 'model', 'body_type', 'vehicle_type', 'drivetrain', 'transmission', 'fuel_type', 'engine_block', 'state']] = df[['make', 'model', 'body_type', 'vehicle_type', 'drivetrain', 'transmission', 'fuel_type', 'engine_block', 'state']].astype(\"string\")\n",
    "\n",
    "df.dtypes"
   ]
  },
  {
   "cell_type": "code",
   "execution_count": 15,
   "id": "e7631626",
   "metadata": {},
   "outputs": [
    {
     "data": {
      "text/plain": [
       "(269552, 14)"
      ]
     },
     "execution_count": 15,
     "metadata": {},
     "output_type": "execute_result"
    }
   ],
   "source": [
    "df.shape"
   ]
  },
  {
   "cell_type": "code",
   "execution_count": 16,
   "id": "75193213",
   "metadata": {},
   "outputs": [
    {
     "data": {
      "text/plain": [
       "price           0\n",
       "miles           0\n",
       "year            0\n",
       "make            0\n",
       "model           0\n",
       "trim            0\n",
       "body_type       0\n",
       "vehicle_type    0\n",
       "drivetrain      0\n",
       "transmission    0\n",
       "fuel_type       0\n",
       "engine_size     0\n",
       "engine_block    0\n",
       "state           0\n",
       "dtype: int64"
      ]
     },
     "execution_count": 16,
     "metadata": {},
     "output_type": "execute_result"
    }
   ],
   "source": [
    "df.isna().sum()"
   ]
  },
  {
   "cell_type": "code",
   "execution_count": 17,
   "id": "29702350",
   "metadata": {},
   "outputs": [
    {
     "data": {
      "text/html": [
       "<div>\n",
       "<style scoped>\n",
       "    .dataframe tbody tr th:only-of-type {\n",
       "        vertical-align: middle;\n",
       "    }\n",
       "\n",
       "    .dataframe tbody tr th {\n",
       "        vertical-align: top;\n",
       "    }\n",
       "\n",
       "    .dataframe thead th {\n",
       "        text-align: right;\n",
       "    }\n",
       "</style>\n",
       "<table border=\"1\" class=\"dataframe\">\n",
       "  <thead>\n",
       "    <tr style=\"text-align: right;\">\n",
       "      <th></th>\n",
       "      <th>price</th>\n",
       "      <th>miles</th>\n",
       "      <th>year</th>\n",
       "      <th>make</th>\n",
       "      <th>model</th>\n",
       "      <th>trim</th>\n",
       "      <th>body_type</th>\n",
       "      <th>vehicle_type</th>\n",
       "      <th>drivetrain</th>\n",
       "      <th>transmission</th>\n",
       "      <th>fuel_type</th>\n",
       "      <th>engine_size</th>\n",
       "      <th>engine_block</th>\n",
       "      <th>state</th>\n",
       "    </tr>\n",
       "  </thead>\n",
       "  <tbody>\n",
       "    <tr>\n",
       "      <th>0</th>\n",
       "      <td>179999.0</td>\n",
       "      <td>9966.0</td>\n",
       "      <td>2017.0</td>\n",
       "      <td>Acura</td>\n",
       "      <td>NSX</td>\n",
       "      <td>Base</td>\n",
       "      <td>Coupe</td>\n",
       "      <td>Car</td>\n",
       "      <td>4WD</td>\n",
       "      <td>Automatic</td>\n",
       "      <td>Electric / Premium Unleaded</td>\n",
       "      <td>3.5</td>\n",
       "      <td>V</td>\n",
       "      <td>NB</td>\n",
       "    </tr>\n",
       "    <tr>\n",
       "      <th>1</th>\n",
       "      <td>179995.0</td>\n",
       "      <td>5988.0</td>\n",
       "      <td>2017.0</td>\n",
       "      <td>Acura</td>\n",
       "      <td>NSX</td>\n",
       "      <td>Base</td>\n",
       "      <td>Coupe</td>\n",
       "      <td>Car</td>\n",
       "      <td>4WD</td>\n",
       "      <td>Automatic</td>\n",
       "      <td>Electric / Premium Unleaded</td>\n",
       "      <td>3.5</td>\n",
       "      <td>V</td>\n",
       "      <td>QC</td>\n",
       "    </tr>\n",
       "    <tr>\n",
       "      <th>2</th>\n",
       "      <td>168528.0</td>\n",
       "      <td>24242.0</td>\n",
       "      <td>2017.0</td>\n",
       "      <td>Acura</td>\n",
       "      <td>NSX</td>\n",
       "      <td>Base</td>\n",
       "      <td>Coupe</td>\n",
       "      <td>Car</td>\n",
       "      <td>4WD</td>\n",
       "      <td>Automatic</td>\n",
       "      <td>Electric / Premium Unleaded</td>\n",
       "      <td>3.5</td>\n",
       "      <td>V</td>\n",
       "      <td>BC</td>\n",
       "    </tr>\n",
       "    <tr>\n",
       "      <th>3</th>\n",
       "      <td>220000.0</td>\n",
       "      <td>6637.0</td>\n",
       "      <td>2020.0</td>\n",
       "      <td>Acura</td>\n",
       "      <td>NSX</td>\n",
       "      <td>Base</td>\n",
       "      <td>Coupe</td>\n",
       "      <td>Car</td>\n",
       "      <td>4WD</td>\n",
       "      <td>Automatic</td>\n",
       "      <td>Electric / Premium Unleaded</td>\n",
       "      <td>3.5</td>\n",
       "      <td>V</td>\n",
       "      <td>ON</td>\n",
       "    </tr>\n",
       "    <tr>\n",
       "      <th>4</th>\n",
       "      <td>220000.0</td>\n",
       "      <td>6637.0</td>\n",
       "      <td>2020.0</td>\n",
       "      <td>Acura</td>\n",
       "      <td>NSX</td>\n",
       "      <td>Base</td>\n",
       "      <td>Coupe</td>\n",
       "      <td>Car</td>\n",
       "      <td>4WD</td>\n",
       "      <td>Automatic</td>\n",
       "      <td>Electric / Premium Unleaded</td>\n",
       "      <td>3.5</td>\n",
       "      <td>V</td>\n",
       "      <td>ON</td>\n",
       "    </tr>\n",
       "  </tbody>\n",
       "</table>\n",
       "</div>"
      ],
      "text/plain": [
       "      price    miles    year   make model  trim body_type vehicle_type  \\\n",
       "0  179999.0   9966.0  2017.0  Acura   NSX  Base     Coupe          Car   \n",
       "1  179995.0   5988.0  2017.0  Acura   NSX  Base     Coupe          Car   \n",
       "2  168528.0  24242.0  2017.0  Acura   NSX  Base     Coupe          Car   \n",
       "3  220000.0   6637.0  2020.0  Acura   NSX  Base     Coupe          Car   \n",
       "4  220000.0   6637.0  2020.0  Acura   NSX  Base     Coupe          Car   \n",
       "\n",
       "  drivetrain transmission                    fuel_type  engine_size  \\\n",
       "0        4WD    Automatic  Electric / Premium Unleaded          3.5   \n",
       "1        4WD    Automatic  Electric / Premium Unleaded          3.5   \n",
       "2        4WD    Automatic  Electric / Premium Unleaded          3.5   \n",
       "3        4WD    Automatic  Electric / Premium Unleaded          3.5   \n",
       "4        4WD    Automatic  Electric / Premium Unleaded          3.5   \n",
       "\n",
       "  engine_block state  \n",
       "0            V    NB  \n",
       "1            V    QC  \n",
       "2            V    BC  \n",
       "3            V    ON  \n",
       "4            V    ON  "
      ]
     },
     "execution_count": 17,
     "metadata": {},
     "output_type": "execute_result"
    }
   ],
   "source": [
    "df.head()"
   ]
  },
  {
   "cell_type": "code",
   "execution_count": 18,
   "id": "3299b20a",
   "metadata": {},
   "outputs": [
    {
     "data": {
      "text/plain": [
       "<StringArray>\n",
       "[        'Acura',         'Dodge',      'Chrysler',           'RAM',\n",
       "          'Ford',     'Chevrolet',         'Buick',      'Cadillac',\n",
       "           'GMC',         'Lexus',    'Volkswagen',           'BMW',\n",
       " 'Mercedes-Benz',        'Hummer',       'Lincoln',         'Volvo',\n",
       "      'INFINITI',        'Toyota',    'Land Rover',          'Audi',\n",
       "          'MINI',       'Porsche',      'Maserati',    'Am General',\n",
       "          'Jeep',        'Nissan',         'Mazda',        'Jaguar',\n",
       "         'Honda',       'Pontiac',    'Oldsmobile',        'Saturn',\n",
       "      'Plymouth',       'Mercury',        'Suzuki',           'Kia',\n",
       "       'Hyundai',         'Scion',    'Mitsubishi',        'Subaru',\n",
       "          'FIAT',       'GENESIS',         'Lotus',          'Saab',\n",
       "       'Ferrari',       'McLaren',   'Rolls-Royce',       'Bentley',\n",
       "  'Aston Martin',       'Maybach',         'smart',    'Alfa Romeo',\n",
       "   'Lamborghini',         'KARMA']\n",
       "Length: 54, dtype: string"
      ]
     },
     "execution_count": 18,
     "metadata": {},
     "output_type": "execute_result"
    }
   ],
   "source": [
    "df['make'].unique()"
   ]
  },
  {
   "cell_type": "code",
   "execution_count": 19,
   "id": "7b7d044f",
   "metadata": {},
   "outputs": [
    {
     "data": {
      "text/plain": [
       "array(['acura', 'dodge', 'chrysler', 'ram', 'ford', 'chevrolet', 'buick',\n",
       "       'cadillac', 'gmc', 'lexus', 'volkswagen', 'bmw', 'mercedes_benz',\n",
       "       'hummer', 'lincoln', 'volvo', 'infiniti', 'toyota', 'land_rover',\n",
       "       'audi', 'mini', 'porsche', 'maserati', 'am_general', 'jeep',\n",
       "       'nissan', 'mazda', 'jaguar', 'honda', 'pontiac', 'oldsmobile',\n",
       "       'saturn', 'plymouth', 'mercury', 'suzuki', 'kia', 'hyundai',\n",
       "       'scion', 'mitsubishi', 'subaru', 'fiat', 'genesis', 'lotus',\n",
       "       'saab', 'ferrari', 'mclaren', 'rolls_royce', 'bentley',\n",
       "       'aston_martin', 'maybach', 'smart', 'alfa_romeo', 'lamborghini',\n",
       "       'karma'], dtype=object)"
      ]
     },
     "execution_count": 19,
     "metadata": {},
     "output_type": "execute_result"
    }
   ],
   "source": [
    "df['make'] = df['make'].apply(lambda x : x.lower().replace(' ', '_').replace('-', '_'))\n",
    "\n",
    "df['make'].unique()"
   ]
  },
  {
   "cell_type": "code",
   "execution_count": 20,
   "id": "5473c6b6",
   "metadata": {},
   "outputs": [
    {
     "data": {
      "text/plain": [
       "array(['coupe', 'sedan', 'pickup', 'suv', 'convertible', 'hatchback',\n",
       "       'targa', 'passenger_van', 'cargo_van', 'chassis_cab', 'minivan',\n",
       "       'mini_mpv', 'crossover', 'wagon', 'cutaway', 'micro_car', 'combi',\n",
       "       'car_van', 'roadster', 'commercial_wagon'], dtype=object)"
      ]
     },
     "execution_count": 20,
     "metadata": {},
     "output_type": "execute_result"
    }
   ],
   "source": [
    "df['body_type'] = df['body_type'].apply(lambda x : x.lower().replace(' ', '_').replace('-', '_'))\n",
    "df['body_type'].unique()"
   ]
  },
  {
   "cell_type": "code",
   "execution_count": 21,
   "id": "ec15d3e3",
   "metadata": {},
   "outputs": [
    {
     "data": {
      "text/plain": [
       "<StringArray>\n",
       "['Car', 'Truck']\n",
       "Length: 2, dtype: string"
      ]
     },
     "execution_count": 21,
     "metadata": {},
     "output_type": "execute_result"
    }
   ],
   "source": [
    "df['vehicle_type'].unique()"
   ]
  },
  {
   "cell_type": "code",
   "execution_count": 22,
   "id": "a188df35",
   "metadata": {},
   "outputs": [
    {
     "data": {
      "text/plain": [
       "<StringArray>\n",
       "['4WD', 'FWD', 'RWD']\n",
       "Length: 3, dtype: string"
      ]
     },
     "execution_count": 22,
     "metadata": {},
     "output_type": "execute_result"
    }
   ],
   "source": [
    "df['drivetrain'].unique()"
   ]
  },
  {
   "cell_type": "code",
   "execution_count": 23,
   "id": "58e33c2d",
   "metadata": {},
   "outputs": [
    {
     "data": {
      "text/plain": [
       "<StringArray>\n",
       "['Automatic', 'Manual']\n",
       "Length: 2, dtype: string"
      ]
     },
     "execution_count": 23,
     "metadata": {},
     "output_type": "execute_result"
    }
   ],
   "source": [
    "df['transmission'].unique()"
   ]
  },
  {
   "cell_type": "code",
   "execution_count": 24,
   "id": "463de362",
   "metadata": {},
   "outputs": [
    {
     "data": {
      "text/plain": [
       "<StringArray>\n",
       "[        'Electric / Premium Unleaded',                                 'E85',\n",
       "            'E85 / Unleaded; Unleaded',                      'Unleaded / E85',\n",
       "                 'Unleaded / Unleaded', 'E85 / Unleaded; Unleaded / Unleaded',\n",
       "          'Premium Unleaded; Unleaded',         'Premium Unleaded / Unleaded',\n",
       "        'Compressed Natural Gas / Lpg',   'Compressed Natural Gas / Unleaded',\n",
       "                           'Biodiesel',              'E85 / Premium Unleaded',\n",
       "                      'Electric / E85',              'Compressed Natural Gas',\n",
       "    'Compressed Natural Gas; Unleaded',                 'Unleaded / Electric',\n",
       "           'Diesel / Premium Unleaded',                              'Diesel',\n",
       "                            'Electric',                            'Unleaded',\n",
       "                      'E85 / Unleaded',                    'Premium Unleaded',\n",
       "                 'Electric / Unleaded']\n",
       "Length: 23, dtype: string"
      ]
     },
     "execution_count": 24,
     "metadata": {},
     "output_type": "execute_result"
    }
   ],
   "source": [
    "df['fuel_type'].unique()"
   ]
  },
  {
   "cell_type": "code",
   "execution_count": 25,
   "id": "892dfb96",
   "metadata": {},
   "outputs": [],
   "source": [
    "gasoline = {'gas', \n",
    "            'E85 / Unleaded',\n",
    "       'Unleaded', 'Premium Unleaded',\n",
    "       'Premium Unleaded; Unleaded', \n",
    "       'Unleaded; Unleaded / E85', 'Unleaded / E85',\n",
    "       'E85 / Unleaded; Unleaded', 'Premium Unleaded / Unleaded',\n",
    "       'E85 / Premium Unleaded; E85 / Unleaded', \n",
    "       'E85', 'E85 / Premium Unleaded', \n",
    "       'Compressed Natural Gas; Unleaded',\n",
    "       'E85 / Unleaded; Unleaded / Unleaded',\n",
    "       'Diesel / Premium Unleaded', 'E85 / Unleaded; Unleaded / E85',\n",
    "       'Unleaded / Unleaded', \n",
    "       'Compressed Natural Gas / Unleaded', 'Diesel; Unleaded',\n",
    "       'Diesel; E85 / Unleaded', 'E85 / Unleaded; Premium Unleaded',\n",
    "       'Premium Unleaded; Premium Unleaded / E85', 'E85; E85 / Unleaded',\n",
    "       'Unleaded / Premium Unleaded',\n",
    "       'Premium Unleaded / E85',\n",
    "       'M85 / Unleaded'\n",
    "}\n",
    "\n",
    "biodiesel = {\n",
    "    'Biodiesel'\n",
    "}\n",
    "\n",
    "hybrid = {\n",
    "       'Electric / Premium Unleaded', \n",
    "       'Electric / Unleaded',\n",
    "       'Unleaded / Electric',\n",
    "       'Electric / Hydrogen',\n",
    "       'Electric / Premium Unleaded; Electric / Unleaded',\n",
    "       'Electric / Premium Unleaded; Premium Unleaded',\n",
    "       'Electric / E85'\n",
    "}\n",
    "\n",
    "other = {\n",
    "    'Hydrogen', \n",
    "    'Premium Unleaded / Natural Gas',\n",
    "    'Compressed Natural Gas / Lpg', \n",
    "    'Compressed Natural Gas', 'Propane',\n",
    "    'Flex Fuel Vehicle',\n",
    "}\n",
    "\n",
    "def preprocess_fuel_type(x):\n",
    "    if x in gasoline:\n",
    "        return \"gasoline\"\n",
    "    elif x in biodiesel:\n",
    "        return \"biodiesel\"\n",
    "    elif x in hybrid:\n",
    "        return \"hyrid\"\n",
    "    else:\n",
    "        return \"other\"\n",
    "    \n",
    "df['fuel_type'] = df['fuel_type'].apply(preprocess_fuel_type)"
   ]
  },
  {
   "cell_type": "code",
   "execution_count": 26,
   "id": "6c34e78c",
   "metadata": {},
   "outputs": [
    {
     "data": {
      "text/plain": [
       "array(['hyrid', 'gasoline', 'other', 'biodiesel'], dtype=object)"
      ]
     },
     "execution_count": 26,
     "metadata": {},
     "output_type": "execute_result"
    }
   ],
   "source": [
    "df['fuel_type'].unique()"
   ]
  },
  {
   "cell_type": "code",
   "execution_count": 27,
   "id": "ec834cf8",
   "metadata": {},
   "outputs": [
    {
     "data": {
      "text/plain": [
       "array([3.5, 2.7, 3.6, 5.7, 4. , 5. , 5.4, 3. , 1.4, 1.5, 4.6, 6. , 6.6,\n",
       "       5.3, 6.2, 6.1, 2.4, 1.6, 2. , 3.3, 1.8, 2.5, 0.6, 2.9, 4.7, 6.5,\n",
       "       5.9, 3.2, 6.7, 6.4, 7.3, 2.8, 1.9, 2.2, 2.1, 5.2, 8. , 3.7, 2.3,\n",
       "       1. , 3.8, 3.9, 6.8, 4.2, 3.1, 3.4, 4.5, 4.8, 4.3, 8.1, 7.4, 1.7,\n",
       "       5.6, 1.3, 1.2, 4.4, 6.3, 8.3, 8.4, 7. , 5.8, 5.5, 2.6, 0.9])"
      ]
     },
     "execution_count": 27,
     "metadata": {},
     "output_type": "execute_result"
    }
   ],
   "source": [
    "df['engine_size'].unique()"
   ]
  },
  {
   "cell_type": "code",
   "execution_count": 28,
   "id": "67d98ff7",
   "metadata": {},
   "outputs": [
    {
     "data": {
      "text/plain": [
       "<StringArray>\n",
       "['V', 'I', 'H']\n",
       "Length: 3, dtype: string"
      ]
     },
     "execution_count": 28,
     "metadata": {},
     "output_type": "execute_result"
    }
   ],
   "source": [
    "df['engine_block'].unique()"
   ]
  },
  {
   "cell_type": "code",
   "execution_count": 29,
   "id": "9e34a55a",
   "metadata": {},
   "outputs": [
    {
     "data": {
      "text/plain": [
       "<StringArray>\n",
       "['NB', 'QC', 'BC', 'ON', 'AB', 'MB', 'SK', 'NS', 'PE', 'NL', 'YT', 'NC', 'OH',\n",
       " 'SC']\n",
       "Length: 14, dtype: string"
      ]
     },
     "execution_count": 29,
     "metadata": {},
     "output_type": "execute_result"
    }
   ],
   "source": [
    "df['state'].unique()"
   ]
  },
  {
   "cell_type": "code",
   "execution_count": 30,
   "id": "b2413af2",
   "metadata": {},
   "outputs": [],
   "source": [
    "unique_make_model = df.groupby(['make', 'model']).size().reset_index(name='count')\n",
    "\n",
    "non_unique_rows = unique_make_model[unique_make_model['count']>1]\n",
    "\n",
    "df_filtered = df.merge(non_unique_rows, on=['make', 'model'], how='inner').drop(['count'], axis=1)\n"
   ]
  },
  {
   "cell_type": "code",
   "execution_count": 31,
   "id": "7bd4e98b",
   "metadata": {},
   "outputs": [
    {
     "data": {
      "text/plain": [
       "(269493, 14)"
      ]
     },
     "execution_count": 31,
     "metadata": {},
     "output_type": "execute_result"
    }
   ],
   "source": [
    "df_filtered.shape"
   ]
  },
  {
   "cell_type": "code",
   "execution_count": 32,
   "id": "1a5157fb",
   "metadata": {},
   "outputs": [],
   "source": [
    "df_filtered.to_csv('data/used_car_canada_clean.csv', index=False, header=True)"
   ]
  },
  {
   "cell_type": "markdown",
   "id": "00c1066f",
   "metadata": {},
   "source": [
    "## Modeling "
   ]
  },
  {
   "cell_type": "code",
   "execution_count": 33,
   "id": "171d02e6",
   "metadata": {},
   "outputs": [
    {
     "data": {
      "text/html": [
       "<div>\n",
       "<style scoped>\n",
       "    .dataframe tbody tr th:only-of-type {\n",
       "        vertical-align: middle;\n",
       "    }\n",
       "\n",
       "    .dataframe tbody tr th {\n",
       "        vertical-align: top;\n",
       "    }\n",
       "\n",
       "    .dataframe thead th {\n",
       "        text-align: right;\n",
       "    }\n",
       "</style>\n",
       "<table border=\"1\" class=\"dataframe\">\n",
       "  <thead>\n",
       "    <tr style=\"text-align: right;\">\n",
       "      <th></th>\n",
       "      <th>price</th>\n",
       "      <th>miles</th>\n",
       "      <th>year</th>\n",
       "      <th>make</th>\n",
       "      <th>model</th>\n",
       "      <th>trim</th>\n",
       "      <th>body_type</th>\n",
       "      <th>vehicle_type</th>\n",
       "      <th>drivetrain</th>\n",
       "      <th>transmission</th>\n",
       "      <th>fuel_type</th>\n",
       "      <th>engine_size</th>\n",
       "      <th>engine_block</th>\n",
       "      <th>state</th>\n",
       "    </tr>\n",
       "  </thead>\n",
       "  <tbody>\n",
       "    <tr>\n",
       "      <th>0</th>\n",
       "      <td>179999.0</td>\n",
       "      <td>9966.0</td>\n",
       "      <td>2017.0</td>\n",
       "      <td>acura</td>\n",
       "      <td>NSX</td>\n",
       "      <td>Base</td>\n",
       "      <td>coupe</td>\n",
       "      <td>Car</td>\n",
       "      <td>4WD</td>\n",
       "      <td>Automatic</td>\n",
       "      <td>hyrid</td>\n",
       "      <td>3.5</td>\n",
       "      <td>V</td>\n",
       "      <td>NB</td>\n",
       "    </tr>\n",
       "    <tr>\n",
       "      <th>1</th>\n",
       "      <td>179995.0</td>\n",
       "      <td>5988.0</td>\n",
       "      <td>2017.0</td>\n",
       "      <td>acura</td>\n",
       "      <td>NSX</td>\n",
       "      <td>Base</td>\n",
       "      <td>coupe</td>\n",
       "      <td>Car</td>\n",
       "      <td>4WD</td>\n",
       "      <td>Automatic</td>\n",
       "      <td>hyrid</td>\n",
       "      <td>3.5</td>\n",
       "      <td>V</td>\n",
       "      <td>QC</td>\n",
       "    </tr>\n",
       "    <tr>\n",
       "      <th>2</th>\n",
       "      <td>168528.0</td>\n",
       "      <td>24242.0</td>\n",
       "      <td>2017.0</td>\n",
       "      <td>acura</td>\n",
       "      <td>NSX</td>\n",
       "      <td>Base</td>\n",
       "      <td>coupe</td>\n",
       "      <td>Car</td>\n",
       "      <td>4WD</td>\n",
       "      <td>Automatic</td>\n",
       "      <td>hyrid</td>\n",
       "      <td>3.5</td>\n",
       "      <td>V</td>\n",
       "      <td>BC</td>\n",
       "    </tr>\n",
       "    <tr>\n",
       "      <th>3</th>\n",
       "      <td>220000.0</td>\n",
       "      <td>6637.0</td>\n",
       "      <td>2020.0</td>\n",
       "      <td>acura</td>\n",
       "      <td>NSX</td>\n",
       "      <td>Base</td>\n",
       "      <td>coupe</td>\n",
       "      <td>Car</td>\n",
       "      <td>4WD</td>\n",
       "      <td>Automatic</td>\n",
       "      <td>hyrid</td>\n",
       "      <td>3.5</td>\n",
       "      <td>V</td>\n",
       "      <td>ON</td>\n",
       "    </tr>\n",
       "    <tr>\n",
       "      <th>4</th>\n",
       "      <td>220000.0</td>\n",
       "      <td>6637.0</td>\n",
       "      <td>2020.0</td>\n",
       "      <td>acura</td>\n",
       "      <td>NSX</td>\n",
       "      <td>Base</td>\n",
       "      <td>coupe</td>\n",
       "      <td>Car</td>\n",
       "      <td>4WD</td>\n",
       "      <td>Automatic</td>\n",
       "      <td>hyrid</td>\n",
       "      <td>3.5</td>\n",
       "      <td>V</td>\n",
       "      <td>ON</td>\n",
       "    </tr>\n",
       "  </tbody>\n",
       "</table>\n",
       "</div>"
      ],
      "text/plain": [
       "      price    miles    year   make model  trim body_type vehicle_type  \\\n",
       "0  179999.0   9966.0  2017.0  acura   NSX  Base     coupe          Car   \n",
       "1  179995.0   5988.0  2017.0  acura   NSX  Base     coupe          Car   \n",
       "2  168528.0  24242.0  2017.0  acura   NSX  Base     coupe          Car   \n",
       "3  220000.0   6637.0  2020.0  acura   NSX  Base     coupe          Car   \n",
       "4  220000.0   6637.0  2020.0  acura   NSX  Base     coupe          Car   \n",
       "\n",
       "  drivetrain transmission fuel_type  engine_size engine_block state  \n",
       "0        4WD    Automatic     hyrid          3.5            V    NB  \n",
       "1        4WD    Automatic     hyrid          3.5            V    QC  \n",
       "2        4WD    Automatic     hyrid          3.5            V    BC  \n",
       "3        4WD    Automatic     hyrid          3.5            V    ON  \n",
       "4        4WD    Automatic     hyrid          3.5            V    ON  "
      ]
     },
     "execution_count": 33,
     "metadata": {},
     "output_type": "execute_result"
    }
   ],
   "source": [
    "df = pd.read_csv('data/used_car_canada_clean.csv')\n",
    "df.head()"
   ]
  },
  {
   "cell_type": "code",
   "execution_count": 34,
   "id": "37fb0aac-b30e-42b5-afdb-46d478964d3a",
   "metadata": {},
   "outputs": [
    {
     "data": {
      "text/plain": [
       "array(['Base', 'SXT', 'Mainstreet', ..., 'EX Premium PHEV', 'EX PHEV',\n",
       "       'S Touring'], dtype=object)"
      ]
     },
     "execution_count": 34,
     "metadata": {},
     "output_type": "execute_result"
    }
   ],
   "source": [
    "df['trim'].unique()"
   ]
  },
  {
   "cell_type": "code",
   "execution_count": 35,
   "id": "56c9a351",
   "metadata": {},
   "outputs": [],
   "source": [
    "from sklearn.model_selection import train_test_split\n",
    "\n",
    "X = df.drop(['price'], axis=1)\n",
    "y = df['price']\n",
    "\n",
    "X_train, X_test, y_train, y_test = train_test_split(X, y, stratify=df[['make', 'model']], test_size=0.2, shuffle=True, random_state=42)"
   ]
  },
  {
   "cell_type": "code",
   "execution_count": 37,
   "id": "9b7c4bb7-f9c0-47cd-bd34-b3cc4ef6837c",
   "metadata": {},
   "outputs": [
    {
     "name": "stdout",
     "output_type": "stream",
     "text": [
      "Selected categorical features:\n",
      "Index(['make', 'model', 'trim', 'body_type', 'state'], dtype='object')\n"
     ]
    }
   ],
   "source": [
    "import numpy as np\n",
    "import pandas as pd\n",
    "from sklearn.compose import ColumnTransformer\n",
    "from sklearn.pipeline import Pipeline\n",
    "from sklearn.preprocessing import OrdinalEncoder\n",
    "from sklearn.feature_selection import SelectPercentile, mutual_info_regression\n",
    "from sklearn.datasets import fetch_openml\n",
    "\n",
    "# Specify categorical feature indices\n",
    "cat_index = [2,3,4,5,6,7,8,9,11,12] # Updated for the example dataset\n",
    "\n",
    "# Column names for reference\n",
    "cat_feature_names = X.columns[cat_index]\n",
    "\n",
    "# Create the categorical features transformer pipeline\n",
    "cat_features_transformer = Pipeline(\n",
    "    steps=[\n",
    "        (\"encoder\", OrdinalEncoder()),\n",
    "        (\"selector\", SelectPercentile(mutual_info_regression, percentile=50))\n",
    "    ]\n",
    ")\n",
    "\n",
    "# Create the preprocessor with the column transformer\n",
    "preprocessor = ColumnTransformer(\n",
    "    transformers=[\n",
    "        (\"cat\", cat_features_transformer, cat_index)\n",
    "    ]\n",
    ")\n",
    "\n",
    "# Fit the preprocessor on the data\n",
    "preprocessor.fit(X, y)\n",
    "\n",
    "# Get the support mask for selected categorical features\n",
    "support_mask = preprocessor.named_transformers_[\"cat\"].named_steps[\"selector\"].get_support()\n",
    "\n",
    "# Print the selected categorical feature names\n",
    "selected_cat_features = cat_feature_names[support_mask]\n",
    "print(\"Selected categorical features:\")\n",
    "print(selected_cat_features)\n"
   ]
  },
  {
   "cell_type": "code",
   "execution_count": 38,
   "id": "342b2d2e",
   "metadata": {},
   "outputs": [
    {
     "name": "stderr",
     "output_type": "stream",
     "text": [
      "C:\\Users\\LGPC\\AppData\\Local\\Temp\\ipykernel_10968\\1134722465.py:1: FutureWarning: The default value of numeric_only in DataFrame.corr is deprecated. In a future version, it will default to False. Select only valid columns or specify the value of numeric_only to silence this warning.\n",
      "  df.corr()\n"
     ]
    },
    {
     "data": {
      "text/html": [
       "<div>\n",
       "<style scoped>\n",
       "    .dataframe tbody tr th:only-of-type {\n",
       "        vertical-align: middle;\n",
       "    }\n",
       "\n",
       "    .dataframe tbody tr th {\n",
       "        vertical-align: top;\n",
       "    }\n",
       "\n",
       "    .dataframe thead th {\n",
       "        text-align: right;\n",
       "    }\n",
       "</style>\n",
       "<table border=\"1\" class=\"dataframe\">\n",
       "  <thead>\n",
       "    <tr style=\"text-align: right;\">\n",
       "      <th></th>\n",
       "      <th>price</th>\n",
       "      <th>miles</th>\n",
       "      <th>year</th>\n",
       "      <th>engine_size</th>\n",
       "    </tr>\n",
       "  </thead>\n",
       "  <tbody>\n",
       "    <tr>\n",
       "      <th>price</th>\n",
       "      <td>1.000000</td>\n",
       "      <td>-0.402362</td>\n",
       "      <td>0.418309</td>\n",
       "      <td>0.422068</td>\n",
       "    </tr>\n",
       "    <tr>\n",
       "      <th>miles</th>\n",
       "      <td>-0.402362</td>\n",
       "      <td>1.000000</td>\n",
       "      <td>-0.740553</td>\n",
       "      <td>0.163161</td>\n",
       "    </tr>\n",
       "    <tr>\n",
       "      <th>year</th>\n",
       "      <td>0.418309</td>\n",
       "      <td>-0.740553</td>\n",
       "      <td>1.000000</td>\n",
       "      <td>-0.110395</td>\n",
       "    </tr>\n",
       "    <tr>\n",
       "      <th>engine_size</th>\n",
       "      <td>0.422068</td>\n",
       "      <td>0.163161</td>\n",
       "      <td>-0.110395</td>\n",
       "      <td>1.000000</td>\n",
       "    </tr>\n",
       "  </tbody>\n",
       "</table>\n",
       "</div>"
      ],
      "text/plain": [
       "                price     miles      year  engine_size\n",
       "price        1.000000 -0.402362  0.418309     0.422068\n",
       "miles       -0.402362  1.000000 -0.740553     0.163161\n",
       "year         0.418309 -0.740553  1.000000    -0.110395\n",
       "engine_size  0.422068  0.163161 -0.110395     1.000000"
      ]
     },
     "execution_count": 38,
     "metadata": {},
     "output_type": "execute_result"
    }
   ],
   "source": [
    "df.corr()"
   ]
  },
  {
   "cell_type": "code",
   "execution_count": null,
   "id": "373d31fe-09e5-4710-9400-d5e165eddbd5",
   "metadata": {},
   "outputs": [],
   "source": []
  }
 ],
 "metadata": {
  "kernelspec": {
   "display_name": "Python 3 (ipykernel)",
   "language": "python",
   "name": "python3"
  },
  "language_info": {
   "codemirror_mode": {
    "name": "ipython",
    "version": 3
   },
   "file_extension": ".py",
   "mimetype": "text/x-python",
   "name": "python",
   "nbconvert_exporter": "python",
   "pygments_lexer": "ipython3",
   "version": "3.10.9"
  }
 },
 "nbformat": 4,
 "nbformat_minor": 5
}
